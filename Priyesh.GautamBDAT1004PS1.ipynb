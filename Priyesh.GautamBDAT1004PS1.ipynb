{
 "cells": [
  {
   "cell_type": "markdown",
   "id": "8c852d2d-e53e-4ae0-9e2e-e7050d2c71ee",
   "metadata": {},
   "source": [
    "# QUESTION 1:\n",
    "What data type is each of the following (evaluate where necessary)?\n",
    "\n",
    "5\n",
    "\n",
    "5.0\n",
    "\n",
    "5 > 1\n",
    "\n",
    "'5'\n",
    "\n",
    "5 * 2\n",
    "\n",
    "'5' * 2\n",
    "\n",
    "'5' + '2'\n",
    "\n",
    "5 / 2\n",
    "\n",
    "5 % 2\n",
    "\n",
    "{5, 2, 1}\n",
    "\n",
    "5 == 3\n",
    "\n",
    "Pi (the number)"
   ]
  },
  {
   "cell_type": "code",
   "execution_count": 1,
   "id": "f56f6740-6414-4058-a2d0-b402f7e2f4ac",
   "metadata": {},
   "outputs": [
    {
     "name": "stdout",
     "output_type": "stream",
     "text": [
      "<class 'int'>\n",
      "<class 'float'>\n",
      "<class 'bool'>\n",
      "<class 'str'>\n",
      "<class 'int'>\n",
      "<class 'str'>\n",
      "<class 'str'>\n",
      "<class 'float'>\n",
      "<class 'int'>\n",
      "<class 'set'>\n",
      "<class 'bool'>\n",
      "<class 'float'>\n"
     ]
    }
   ],
   "source": [
    "# Answer for Question 1 :\n",
    "import math\n",
    "print(type(5))\n",
    "print(type(5.0))\n",
    "print(type(5>1))\n",
    "print(type('5'))\n",
    "print(type(5*2))\n",
    "print(type('5'*2))\n",
    "print(type('5'+'2'))\n",
    "print(type(5/2))\n",
    "print(type(5%2))\n",
    "print(type({5,2,1}))\n",
    "print(type(5==3))\n",
    "print(type(math.pi))"
   ]
  },
  {
   "cell_type": "markdown",
   "id": "9f74c13f-c3a0-4a7c-9882-aac660126512",
   "metadata": {},
   "source": [
    "# QUESTION 2:\n",
    " -- Write (and evaluate) python expressions that answer these questions:\n",
    " \n",
    "a. How many letters are there in 'Supercalifragilisticexpialidocious'?\n",
    "\n",
    "b. Does 'Supercalifragilisticexpialidocious' contain 'ice' as a substring?\n",
    "\n",
    "c. Which of the following words is the longest:\n",
    "Supercalifragilisticexpialidocious, Honorificabilitudinitatibus, or\n",
    "Bababadalgharaghtakamminarronnkonn?\n",
    "\n",
    "d. Which composer comes first in the dictionary: 'Berlioz', 'Borodin', 'Brian',\n",
    "'Bartok', 'Bellini', 'Buxtehude', 'Bernstein'. Which one comes last?"
   ]
  },
  {
   "cell_type": "markdown",
   "id": "adcd72c0-cf76-4b18-9e9c-f6d035ffc565",
   "metadata": {},
   "source": [
    "# 2(a.) How many letters are there in 'Supercalifragilisticexpialidocious'?"
   ]
  },
  {
   "cell_type": "code",
   "execution_count": 4,
   "id": "feee36e5-384e-43dc-ab73-7d2fcace1bc4",
   "metadata": {},
   "outputs": [
    {
     "name": "stdout",
     "output_type": "stream",
     "text": [
      "34\n"
     ]
    }
   ],
   "source": [
    "# Answer for Question 2(a):\n",
    "variableName = 'Supercalifragilisticexpialidocious'\n",
    "count = len(variableName)\n",
    "print(count)"
   ]
  },
  {
   "cell_type": "markdown",
   "id": "cef8c904-8681-447b-9329-5be25904f188",
   "metadata": {},
   "source": [
    "# 2(b.) Does 'Supercalifragilisticexpialidocious' contain 'ice' as a substring?"
   ]
  },
  {
   "cell_type": "code",
   "execution_count": 5,
   "id": "69c5ed1d-4975-46fd-b003-f45913db5826",
   "metadata": {},
   "outputs": [
    {
     "name": "stdout",
     "output_type": "stream",
     "text": [
      "Yes\n"
     ]
    }
   ],
   "source": [
    "# Answer for Question 2(b):\n",
    "\n",
    "word =  'Supercalifragilisticexpialidocious'\n",
    "subWord = 'ice'\n",
    "if subWord in word:\n",
    "    print('Yes')\n",
    "else:\n",
    "    print('No')"
   ]
  },
  {
   "cell_type": "markdown",
   "id": "9f714504-73e9-4c72-b915-b51370268495",
   "metadata": {},
   "source": [
    "# 2(c.) Which of the following words is the longest:\n",
    "Supercalifragilisticexpialidocious, Honorificabilitudinitatibus, or\n",
    "Bababadalgharaghtakamminarronnkonn?"
   ]
  },
  {
   "cell_type": "code",
   "execution_count": 17,
   "id": "58b9c259-612c-45ce-a7e3-5f4e3d92001d",
   "metadata": {},
   "outputs": [
    {
     "name": "stdout",
     "output_type": "stream",
     "text": [
      "Longest word is:  Supercalifragilisticexpialidocious\n"
     ]
    }
   ],
   "source": [
    "# Answer for Question 2(c):\n",
    "\n",
    "wordList = ['Supercalifragilisticexpialidocious','Honorificabilitudinitatibus','Bababadalgharaghtakamminarronnkonn']\n",
    "\n",
    "longestWord = max(wordList, key = len)\n",
    "\n",
    "print(\"Longest word is: \", longestWord)"
   ]
  },
  {
   "cell_type": "markdown",
   "id": "257c5b9d-a582-43eb-a929-732b496c372e",
   "metadata": {},
   "source": [
    "# 2(d.) hich composer comes first in the dictionary: 'Berlioz', 'Borodin', 'Brian',\n",
    "'Bartok', 'Bellini', 'Buxtehude', 'Bernstein'. Which one comes last?"
   ]
  },
  {
   "cell_type": "code",
   "execution_count": 8,
   "id": "e27f69cd-7de8-4040-ba13-95cb870edb8d",
   "metadata": {},
   "outputs": [
    {
     "name": "stdout",
     "output_type": "stream",
     "text": [
      "First composer is:  Bartok\n",
      "Last composer is:  Buxtehude\n"
     ]
    }
   ],
   "source": [
    "# Answer for Question 2(d):\n",
    "composerList = ['Berlioz', 'Borodin', 'Brian','Bartok', 'Bellini', 'Buxtehude', 'Bernstein']\n",
    "\n",
    "#Using min/max built in functions to find the first and last composers\n",
    "firstComposer = min(composerList)\n",
    "lastComposer = max(composerList)\n",
    "\n",
    "print(\"First composer is: \", firstComposer)\n",
    "print(\"Last composer is: \", lastComposer)"
   ]
  },
  {
   "cell_type": "markdown",
   "id": "1e9d83df-13c1-424e-b4d8-b550bf2d51a9",
   "metadata": {},
   "source": [
    "# Question 3: \n",
    "Implement function triangleArea(a,b,c) that takes as input the lengths of the 3\n",
    "sides of a triangle and returns the area of the triangle. By Heron's formula, the area\n",
    "of a triangle with side lengths a, b, and c iss(s - a)(s - b)(s - c) , wheres = (a + b + c)/2\n",
    ".\n",
    ">>> triangleArea(2,2,2)\n",
    "1.7320508075688772"
   ]
  },
  {
   "cell_type": "code",
   "execution_count": 13,
   "id": "3c84168b-dd37-4d16-a3cd-bb80554522f5",
   "metadata": {},
   "outputs": [
    {
     "name": "stdin",
     "output_type": "stream",
     "text": [
      "Enter the length of side x:  3\n",
      "Enter the length of side y:  3\n",
      "Enter the length of side z:  2\n"
     ]
    },
    {
     "name": "stdout",
     "output_type": "stream",
     "text": [
      "Area of the triangle will be: 2.8284271247461903\n"
     ]
    }
   ],
   "source": [
    "# Answer for Question 3:\n",
    "\n",
    "import math\n",
    "# lets suppose the sides to be x,y, and z respectively\n",
    "x = int(input(\"Enter the length of side x: \"))\n",
    "y = int(input(\"Enter the length of side y: \"))\n",
    "z = int(input(\"Enter the length of side z: \"))\n",
    "# Now we need to calculate the area of a triangle using Heron's formula\n",
    "def AreaOfTriagle(x, y, z):\n",
    "    # To calculate the semi-perimeter\n",
    "    s = (x + y + z) / 2\n",
    "    \n",
    "    # To calculate the area using Heron's formula\n",
    "    area = math.sqrt(s * (s - x) * (s - y) * (s - z))\n",
    "    \n",
    "    return area\n",
    "print(\"Area of the triangle will be:\", AreaOfTriagle(x, y, z))"
   ]
  },
  {
   "cell_type": "markdown",
   "id": "f5e23ce0-10cc-48a5-9dba-24bc00632fdd",
   "metadata": {},
   "source": [
    "# Question 4:\n",
    "Write a program in python to separate odd and even integers in separate arrays. Go to the editor Test Data :\n",
    "\n",
    "Input the number of elements to be stored in the array :5\n",
    "\n",
    "Input 5 elements in the array :\n",
    "\n",
    "element - 0 : 25\n",
    "\n",
    "element - 1 : 47\n",
    "\n",
    "element - 2 : 42\n",
    "\n",
    "element - 3 : 56\n",
    "\n",
    "element - 4 : 32\n",
    "\n",
    "Expected Output:\n",
    "\n",
    "The Even elements are:\n",
    "\n",
    "42 56 32\n",
    "\n",
    "The Odd elements are :\n",
    "\n",
    "25 47"
   ]
  },
  {
   "cell_type": "code",
   "execution_count": 15,
   "id": "f15476a6-f401-4541-84e8-e56d215032fe",
   "metadata": {},
   "outputs": [
    {
     "name": "stdin",
     "output_type": "stream",
     "text": [
      "Enter the number of elements to be stored:  5\n",
      "element- 0:   44\n",
      "element- 1:   65\n",
      "element- 2:   77\n",
      "element- 3:   33\n",
      "element- 4:   23\n"
     ]
    },
    {
     "name": "stdout",
     "output_type": "stream",
     "text": [
      "Even Elements are:  [44]\n",
      "Odd Elements are:  [65, 77, 33, 23]\n"
     ]
    }
   ],
   "source": [
    "# Answer to Question 4:\n",
    "\n",
    "arrayBox = [] # An array to store all elements\n",
    "evenArrayBox = [] # An array to store even elements\n",
    "oddArrayBox = [] # An array to store odd elements\n",
    "\n",
    "number_of_elemet = int(input(\"Enter the number of elements to be stored: \"))\n",
    "\n",
    "for i in range(5):\n",
    "    data = int(input(f\"element- {i}:  \"))\n",
    "    arrayBox.append(data)\n",
    "    \n",
    "for i in arrayBox:\n",
    "    \n",
    "    if i %2==0: \n",
    "        evenArrayBox.append(i)\n",
    "    else:\n",
    "        oddArrayBox.append(i)\n",
    "        \n",
    "print(\"Even Elements are: \", evenArrayBox)\n",
    "print(\"Odd Elements are: \", oddArrayBox)"
   ]
  },
  {
   "cell_type": "markdown",
   "id": "30b8565f-2893-4c3d-85d9-bc5fe67b9b5f",
   "metadata": {},
   "source": [
    "# Question 5:\n",
    "5 (a.) Write a function inside(x,y,x1,y1,x2,y2) that returns True or False depending on whether the point (x,y) lies in the rectangle with lower left corner (x1,y1) and upper right corner (x2,y2).\n",
    "\n",
    "inside(1,1,0,0,2,3)\n",
    "\n",
    "True\n",
    "\n",
    "inside(-1,-1,0,0,2,3)\n",
    "\n",
    "False"
   ]
  },
  {
   "cell_type": "code",
   "execution_count": 18,
   "id": "9624316e-821f-43e8-913e-2153415dcabd",
   "metadata": {},
   "outputs": [
    {
     "name": "stdout",
     "output_type": "stream",
     "text": [
      "True\n",
      "False\n"
     ]
    }
   ],
   "source": [
    "# Answer to Question 5(a):\n",
    "\n",
    "def inside(X,Y,X1,Y1,X2,Y2): # function definition\n",
    "    if X1 <= X <=X2 and Y1<=Y<=Y2: # conditional logic\n",
    "        return True\n",
    "    else:\n",
    "        return False\n",
    "    \n",
    "testData1 = inside(1,1,0,0,2,3) #function call for test data (1,1,0,0,2,3)\n",
    "print(testData1)\n",
    "\n",
    "testData2 = inside(-1,-1,0,0,2,3) #function call for test data (-1,-1,0,0,2,3)\n",
    "print(testData2)"
   ]
  },
  {
   "cell_type": "markdown",
   "id": "002f9876-8c47-4f69-a717-9f32a84ddb17",
   "metadata": {},
   "source": [
    "# Question 5:\n",
    "5 (b.) Use function inside() from part a. to write an expression that tests whether the point (1,1) lies in both of the following rectangles: one with lower left corner (0.3, 0.5) and upper right corner (1.1, 0.7) and the other with lower left corner (0.5, 0.2) and upper right corner (1.1, 2)."
   ]
  },
  {
   "cell_type": "code",
   "execution_count": 20,
   "id": "485c39b5-8e5d-4176-b97c-d4e24bb6ee2d",
   "metadata": {},
   "outputs": [
    {
     "name": "stdout",
     "output_type": "stream",
     "text": [
      "Result for testData3:  False\n",
      "Result for testData4:  True\n"
     ]
    }
   ],
   "source": [
    "# Answer to Question 5(b):\n",
    "\n",
    "# Results when using the points (1,1) and rectangle points (0.3, 0.5)\n",
    "testData3 = inside(1,1,0.3,0.5,1.1,0.7)\n",
    "print(\"Result for testData3: \",testData3)\n",
    "\n",
    "# Results when using the points (1,1) and rectangle points (0.3, 0.5)\n",
    "testData4 = inside(1,1,0.5,0.2,1.1,2)\n",
    "print(\"Result for testData4: \",testData4)"
   ]
  },
  {
   "cell_type": "markdown",
   "id": "65e1dce2-3bc5-489d-bd53-3aea3b6ee972",
   "metadata": {},
   "source": [
    "# Question 6:\n",
    "\n",
    "You can turn a word into pig-Latin using the following two rules (simplified):\n",
    "\n",
    "• If the word starts with a consonant, move that letter to the end and append 'ay'. For example, 'happy' becomes 'appyhay' and 'pencil' becomes 'encilpay'.\n",
    "\n",
    "• If the word starts with a vowel, simply append 'way' to the end of the word. For example, 'enter' becomes 'enterway' and 'other' becomes 'otherway' . For our purposes, there are 5 vowels: a, e, i, o, u (so we count y as a consonant).\n",
    "\n",
    "Write a function pig() that takes a word (i.e., a string) as input and returns its pig- Latin form. Your function should still work if the input word contains upper case characters. Your output should always be lower case however.\n",
    "\n",
    "pig('happy')\n",
    "\n",
    "'appyhay'\n",
    "\n",
    "pig('Enter')\n",
    "\n",
    "'enterway'"
   ]
  },
  {
   "cell_type": "code",
   "execution_count": 21,
   "id": "60d6687a-a3cb-4e35-bd77-482694e5cc70",
   "metadata": {},
   "outputs": [
    {
     "name": "stdout",
     "output_type": "stream",
     "text": [
      "appyhay\n",
      "enterway\n",
      "encilpay\n",
      "otherway\n",
      "ondahay\n"
     ]
    }
   ],
   "source": [
    "# Answer to Question 6:\n",
    "\n",
    "def pig(wordSelected):\n",
    "    \n",
    "    wordSelected = wordSelected.lower() # converting selected word to lower case\n",
    "    vowel_letter = ['a','e','i','o','u']\n",
    "    \n",
    "    if wordSelected[0] in vowel_letter:#checking whether vowel is at start of word\n",
    "        \n",
    "        wordSelected = wordSelected+'way'\n",
    "        return wordSelected\n",
    "    \n",
    "    else:\n",
    "        wordSelected = wordSelected[1:]+wordSelected[0]+'ay'\n",
    "        return wordSelected\n",
    "   \n",
    "    \n",
    "word1 = \"happy\"\n",
    "word2 = \"Enter\"\n",
    "word3 = \"pencil\"\n",
    "word4 =\"other\"\n",
    "word5 = \"Honda\"\n",
    "\n",
    "print(pig(word1))\n",
    "print(pig(word2))\n",
    "print(pig(word3))\n",
    "print(pig(word4))\n",
    "print(pig(word5))"
   ]
  },
  {
   "cell_type": "markdown",
   "id": "322ec4b5-7e3a-4eb7-922e-ed653a608326",
   "metadata": {},
   "source": [
    "# Question 7:\n",
    "File bloodtype1.txt records blood-types of patients (A, B, AB, O or OO) at a clinic. Write a function bldcount() that reads the file with name name and reports (i.e., prints) how many patients there are in each bloodtype.\n",
    "\n",
    "bldcount('bloodtype.txt') There are 15 patients of blood type A. There is one patient of blood type B. There are 13 patients of blood type AB. There are 15 patients of blood type O. There are no patients of blood type OO."
   ]
  },
  {
   "cell_type": "code",
   "execution_count": 22,
   "id": "86cc8420-d902-4d3f-b7ce-e301807983e4",
   "metadata": {},
   "outputs": [
    {
     "name": "stdout",
     "output_type": "stream",
     "text": [
      "There are 15 patients of blood type A.\n",
      "There is 1 patient of blood type B.\n",
      "There are 13 patients of blood type AB.\n",
      "There are 15 patients of blood type O.\n",
      "There are 0 patients of blood type OO.\n"
     ]
    }
   ],
   "source": [
    "# Answer for Question 7:\n",
    "\n",
    "def bldcount(fname):\n",
    "    \n",
    "    counts = {\"A\": 0, \"B\": 0, \"AB\": 0, \"O\": 0, \"OO\": 0} # set intial values to dictionary \n",
    "\n",
    "    try:\n",
    "        # Open and read the file\n",
    "        with open(fname, \"r\") as file:\n",
    "            \n",
    "            data = file.read()\n",
    "            \n",
    "        btypes = data.split()\n",
    "        #iterating through each blood types\n",
    "        for btype in btypes:\n",
    "            if btype in counts:\n",
    "                counts[btype] +=1\n",
    "                \n",
    "             #printing the final results         \n",
    "        for blood_type, count in counts.items():\n",
    "            if count==1:\n",
    "                print(f\"There is {count} patient of blood type {blood_type}.\")\n",
    "            else:\n",
    "                print(f\"There are {count} patients of blood type {blood_type}.\")\n",
    "            \n",
    "                \n",
    "    except FileNotFoundError:\n",
    "        print(\"File not found.\")\n",
    "\n",
    "bldcount(\"bloodtype1.txt\")"
   ]
  },
  {
   "cell_type": "markdown",
   "id": "0c873829-6d4e-4ef0-8d59-8bed3992d201",
   "metadata": {},
   "source": [
    "# Question 8:\n",
    "Write a function curconv() that takes as input:\n",
    "\n",
    "a currency represented using a string (e.g., 'JPY' for the Japanese Yen or 'EUR' for the Euro)\n",
    "an amount and then converts and returns the amount in US dollars.\n",
    "curconv('EUR', 100)\n",
    "\n",
    "122.96544\n",
    "\n",
    "curconv('JPY', 100)\n",
    "\n",
    "1.241401"
   ]
  },
  {
   "cell_type": "code",
   "execution_count": 28,
   "id": "1e105d19-cd60-4604-82e4-15436af3a8ed",
   "metadata": {},
   "outputs": [],
   "source": [
    "# Answer of Question 8:\n",
    "\n",
    "def curconv(currency, amount):\n",
    "    \n",
    "    currency_rate = {} #\n",
    "    try: \n",
    "        with open('currency.txt', 'r') as file: # file open\n",
    "    \n",
    "            for data in file:\n",
    "                \n",
    "                currency_parts = data.strip().split()\n",
    "                currency_code, rate= currency_parts[:2] # storing only Currency code and rate\n",
    "                currency_rate[currency_code]=float(rate)\n",
    "                \n",
    "        if currency in currency_rate:\n",
    "            usd_amount = amount* currency_rate[currency] # calculating the usd equivalent\n",
    "            return usd_amount\n",
    "            \n",
    "        else:\n",
    "            print(\"Currency not found in currency rate\")\n",
    "                \n",
    "    except FileNotFoundError:\n",
    "        print(\"File not found\") \n"
   ]
  },
  {
   "cell_type": "code",
   "execution_count": 32,
   "id": "947f2fe0-4cf3-4c3a-b41f-9c42482df8de",
   "metadata": {},
   "outputs": [
    {
     "data": {
      "text/plain": [
       "103.45157"
      ]
     },
     "execution_count": 32,
     "metadata": {},
     "output_type": "execute_result"
    }
   ],
   "source": [
    "#The results are given below for Australian Dollar:\n",
    "curconv('AUD',100)"
   ]
  },
  {
   "cell_type": "code",
   "execution_count": 31,
   "id": "0025115c-0c2b-4708-beb6-eafc9d4c667e",
   "metadata": {},
   "outputs": [
    {
     "data": {
      "text/plain": [
       "12.702069999999999"
      ]
     },
     "execution_count": 31,
     "metadata": {},
     "output_type": "execute_result"
    }
   ],
   "source": [
    "#The results are given below for Hongkong Dollar:\n",
    "curconv('HKD',100)"
   ]
  },
  {
   "cell_type": "markdown",
   "id": "c71a6dbd-5473-498b-a362-df60e4297372",
   "metadata": {},
   "source": [
    "# Question 9:\n",
    "Each of the following will cause an exception (an error). Identify what type of\n",
    "exception each will cause.\n",
    "\n",
    "1. Trying to add incompatible variables, as in\n",
    "adding 6 + ‘a’\n",
    "\n",
    "2. Referring to the 12th item of a list that has only 10\n",
    "items\n",
    "\n",
    "3. Using a value that is out of range for a function’s\n",
    "input, such as calling math.sqrt(-1.0)\n",
    "\n",
    "4. Using an undeclared variable, such as print(x)\n",
    "when x has not been defined\n",
    "\n",
    "5. Trying to open a file that does not exist, such as\n",
    "mistyping the file name or looking in the wrong\n",
    "directory."
   ]
  },
  {
   "cell_type": "code",
   "execution_count": 33,
   "id": "ef59f12c-9d3c-41ee-a8b6-69bf9d3ce281",
   "metadata": {},
   "outputs": [
    {
     "ename": "SyntaxError",
     "evalue": "invalid character '‘' (U+2018) (2220302999.py, line 5)",
     "output_type": "error",
     "traceback": [
      "\u001b[0;36m  Cell \u001b[0;32mIn[33], line 5\u001b[0;36m\u001b[0m\n\u001b[0;31m    adding 6 + ‘a’\u001b[0m\n\u001b[0m               ^\u001b[0m\n\u001b[0;31mSyntaxError\u001b[0m\u001b[0;31m:\u001b[0m invalid character '‘' (U+2018)\n"
     ]
    }
   ],
   "source": [
    "# Answer to condition 1 of question 9:\n",
    "\n",
    "# Here trying to add incompatible variables, as in\n",
    "\n",
    "adding 6 + ‘a’\n",
    "\n",
    "print(6+'a')"
   ]
  },
  {
   "cell_type": "code",
   "execution_count": 34,
   "id": "8142ba91-faf7-43e0-b86e-338ae5ef04de",
   "metadata": {},
   "outputs": [
    {
     "ename": "IndexError",
     "evalue": "list index out of range",
     "output_type": "error",
     "traceback": [
      "\u001b[0;31m---------------------------------------------------------------------------\u001b[0m",
      "\u001b[0;31mIndexError\u001b[0m                                Traceback (most recent call last)",
      "Cell \u001b[0;32mIn[34], line 4\u001b[0m\n\u001b[1;32m      1\u001b[0m \u001b[38;5;66;03m# Answer to condition 2 of question 9:\u001b[39;00m\n\u001b[1;32m      2\u001b[0m \u001b[38;5;66;03m# Here referring to the 12th item of a list that has only 10 items\u001b[39;00m\n\u001b[1;32m      3\u001b[0m itemList \u001b[38;5;241m=\u001b[39m [\u001b[38;5;241m1\u001b[39m,\u001b[38;5;241m2\u001b[39m,\u001b[38;5;241m3\u001b[39m,\u001b[38;5;241m4\u001b[39m,\u001b[38;5;241m5\u001b[39m,\u001b[38;5;241m6\u001b[39m,\u001b[38;5;241m7\u001b[39m,\u001b[38;5;241m8\u001b[39m,\u001b[38;5;241m9\u001b[39m,\u001b[38;5;241m10\u001b[39m]\n\u001b[0;32m----> 4\u001b[0m \u001b[38;5;28mprint\u001b[39m(\u001b[43mitemList\u001b[49m\u001b[43m[\u001b[49m\u001b[38;5;241;43m12\u001b[39;49m\u001b[43m]\u001b[49m)\n",
      "\u001b[0;31mIndexError\u001b[0m: list index out of range"
     ]
    }
   ],
   "source": [
    "# Answer to condition 2 of question 9:\n",
    "# Here referring to the 12th item of a list that has only 10 items\n",
    "itemList = [1,2,3,4,5,6,7,8,9,10]\n",
    "print(itemList[12])\n"
   ]
  },
  {
   "cell_type": "code",
   "execution_count": 35,
   "id": "4531100a-b10c-4b94-aeba-9bedb5d68c58",
   "metadata": {},
   "outputs": [
    {
     "ename": "ValueError",
     "evalue": "math domain error",
     "output_type": "error",
     "traceback": [
      "\u001b[0;31m---------------------------------------------------------------------------\u001b[0m",
      "\u001b[0;31mValueError\u001b[0m                                Traceback (most recent call last)",
      "Cell \u001b[0;32mIn[35], line 8\u001b[0m\n\u001b[1;32m      6\u001b[0m \u001b[38;5;28;01mdef\u001b[39;00m \u001b[38;5;21mmathFunction\u001b[39m(data):\n\u001b[1;32m      7\u001b[0m     \u001b[38;5;28mprint\u001b[39m(data)\n\u001b[0;32m----> 8\u001b[0m value \u001b[38;5;241m=\u001b[39m \u001b[43mmath\u001b[49m\u001b[38;5;241;43m.\u001b[39;49m\u001b[43msqrt\u001b[49m\u001b[43m(\u001b[49m\u001b[38;5;241;43m-\u001b[39;49m\u001b[38;5;241;43m1.0\u001b[39;49m\u001b[43m)\u001b[49m\n\u001b[1;32m      9\u001b[0m mathFunction(value)\n",
      "\u001b[0;31mValueError\u001b[0m: math domain error"
     ]
    }
   ],
   "source": [
    "# Answer to condition 3 of question 9:\n",
    "\n",
    "# Here Using a value that is out of range for a function’s input, such as calling math.sqrt(-1.0)\n",
    "\n",
    "import math\n",
    "def mathFunction(data):\n",
    "    print(data)\n",
    "value = math.sqrt(-1.0)\n",
    "mathFunction(value)"
   ]
  },
  {
   "cell_type": "code",
   "execution_count": 37,
   "id": "d53e4324-b481-4774-a458-82f115cfe147",
   "metadata": {},
   "outputs": [
    {
     "name": "stdout",
     "output_type": "stream",
     "text": [
      "3\n"
     ]
    }
   ],
   "source": [
    "# Answer to condition 4 of question 9:\n",
    "#Here using an undeclared variable, such as print(x) when x has not been defined\n",
    "\n",
    "print(x)"
   ]
  },
  {
   "cell_type": "code",
   "execution_count": 38,
   "id": "f627bbf3-984c-488d-a15f-7d3add3228ac",
   "metadata": {},
   "outputs": [
    {
     "ename": "FileNotFoundError",
     "evalue": "[Errno 2] No such file or directory: 'current.txt'",
     "output_type": "error",
     "traceback": [
      "\u001b[0;31m---------------------------------------------------------------------------\u001b[0m",
      "\u001b[0;31mFileNotFoundError\u001b[0m                         Traceback (most recent call last)",
      "Cell \u001b[0;32mIn[38], line 4\u001b[0m\n\u001b[1;32m      1\u001b[0m \u001b[38;5;66;03m# Answer to condition 5 of question 9:\u001b[39;00m\n\u001b[1;32m      2\u001b[0m \u001b[38;5;66;03m#Trying to open a file that does not exist, such as mistyping the file name or looking in the wrong directory.\u001b[39;00m\n\u001b[0;32m----> 4\u001b[0m \u001b[38;5;28;01mwith\u001b[39;00m \u001b[38;5;28;43mopen\u001b[39;49m\u001b[43m(\u001b[49m\u001b[38;5;124;43m\"\u001b[39;49m\u001b[38;5;124;43mcurrent.txt\u001b[39;49m\u001b[38;5;124;43m\"\u001b[39;49m\u001b[43m,\u001b[49m\u001b[38;5;124;43m\"\u001b[39;49m\u001b[38;5;124;43mr\u001b[39;49m\u001b[38;5;124;43m\"\u001b[39;49m\u001b[43m)\u001b[49m \u001b[38;5;28;01mas\u001b[39;00m file:\n\u001b[1;32m      5\u001b[0m     \u001b[38;5;28mprint\u001b[39m(file)\n",
      "File \u001b[0;32m~/.cache/pipx/2615b5f93c52ac4/lib/python3.12/site-packages/IPython/core/interactiveshell.py:324\u001b[0m, in \u001b[0;36m_modified_open\u001b[0;34m(file, *args, **kwargs)\u001b[0m\n\u001b[1;32m    317\u001b[0m \u001b[38;5;28;01mif\u001b[39;00m file \u001b[38;5;129;01min\u001b[39;00m {\u001b[38;5;241m0\u001b[39m, \u001b[38;5;241m1\u001b[39m, \u001b[38;5;241m2\u001b[39m}:\n\u001b[1;32m    318\u001b[0m     \u001b[38;5;28;01mraise\u001b[39;00m \u001b[38;5;167;01mValueError\u001b[39;00m(\n\u001b[1;32m    319\u001b[0m         \u001b[38;5;124mf\u001b[39m\u001b[38;5;124m\"\u001b[39m\u001b[38;5;124mIPython won\u001b[39m\u001b[38;5;124m'\u001b[39m\u001b[38;5;124mt let you open fd=\u001b[39m\u001b[38;5;132;01m{\u001b[39;00mfile\u001b[38;5;132;01m}\u001b[39;00m\u001b[38;5;124m by default \u001b[39m\u001b[38;5;124m\"\u001b[39m\n\u001b[1;32m    320\u001b[0m         \u001b[38;5;124m\"\u001b[39m\u001b[38;5;124mas it is likely to crash IPython. If you know what you are doing, \u001b[39m\u001b[38;5;124m\"\u001b[39m\n\u001b[1;32m    321\u001b[0m         \u001b[38;5;124m\"\u001b[39m\u001b[38;5;124myou can use builtins\u001b[39m\u001b[38;5;124m'\u001b[39m\u001b[38;5;124m open.\u001b[39m\u001b[38;5;124m\"\u001b[39m\n\u001b[1;32m    322\u001b[0m     )\n\u001b[0;32m--> 324\u001b[0m \u001b[38;5;28;01mreturn\u001b[39;00m \u001b[43mio_open\u001b[49m\u001b[43m(\u001b[49m\u001b[43mfile\u001b[49m\u001b[43m,\u001b[49m\u001b[43m \u001b[49m\u001b[38;5;241;43m*\u001b[39;49m\u001b[43margs\u001b[49m\u001b[43m,\u001b[49m\u001b[43m \u001b[49m\u001b[38;5;241;43m*\u001b[39;49m\u001b[38;5;241;43m*\u001b[39;49m\u001b[43mkwargs\u001b[49m\u001b[43m)\u001b[49m\n",
      "\u001b[0;31mFileNotFoundError\u001b[0m: [Errno 2] No such file or directory: 'current.txt'"
     ]
    }
   ],
   "source": [
    "# Answer to condition 5 of question 9:\n",
    "#Trying to open a file that does not exist, such as mistyping the file name or looking in the wrong directory.\n",
    "\n",
    "with open(\"current.txt\",\"r\") as file:\n",
    "    print(file)"
   ]
  },
  {
   "cell_type": "markdown",
   "id": "641e1e58-fe53-499e-a520-96515c1c5687",
   "metadata": {},
   "source": [
    "# Question 10:\n",
    "Encryption is the process of hiding the meaning of a text by substituting letters in the message with other letters, according to some system. If the process is successful, no one but the intended recipient can understand the encrypted message. Cryptanalysis refers to attempts to undo the encryption, even if some details of the encryption are unknown (for example, if an encrypted message has been intercepted). The first step of cryptanalysis is often to build up a table of letter frequencies in the encrypted text. Assume that the string letters is already defined as 'abcdefghijklmnopqrstuvwxyz'.\n",
    "\n",
    "Write a function called frequencies() that takes a string as its only parameter, and returns a list of integers, showing the number of times each character appears in the text. Your function may ignore any characters that are not in letters.\n",
    "\n",
    "frequencies('The quick red fox got bored and went home.') [1, 1, 1, 3, 5, 1, 1, 2, 1, 0, 1, 0, 1, 2, 4, 0, 1, 2, 0, 2, 1, 0, 1, 1, 0, 0]\n",
    "\n",
    "frequencies('apple')"
   ]
  },
  {
   "cell_type": "code",
   "execution_count": 51,
   "id": "fb68f8af-0a2f-4923-a265-ef9baf7312c1",
   "metadata": {},
   "outputs": [],
   "source": [
    "# Answer to question 10:\n",
    "\n",
    "def frequencies(text):\n",
    "    \n",
    "    letters = 'abcdefghijklmnopqrstuvwxyz'\n",
    "    word_count = {} # here initialize dictionary\n",
    "    \n",
    "    for char in letters:\n",
    "        word_count[char] =0 # set 0 for each char\n",
    "        \n",
    "    text = text.lower() \n",
    "    \n",
    "    for char in text: # counting each characters from the text\n",
    "        if char in letters:\n",
    "            word_count[char] +=1\n",
    "            \n",
    "    frequencies_count = list(word_count.values()) # selecting only dictionary values\n",
    "    return frequencies_count"
   ]
  },
  {
   "cell_type": "code",
   "execution_count": 49,
   "id": "f40ef71a-37d7-423f-9203-caf5c9694d65",
   "metadata": {},
   "outputs": [
    {
     "name": "stdout",
     "output_type": "stream",
     "text": [
      "[0, 4, 1, 5, 0, 2, 0, 1, 0, 3, 0, 1, 2, 3, 0, 0]\n"
     ]
    }
   ],
   "source": [
    "# Function call for frequecies of question 10:\n",
    "text1 = frequencies('The quick red fox got bored and went home.')\n",
    "print(text1)"
   ]
  },
  {
   "cell_type": "code",
   "execution_count": 47,
   "id": "504195f9-f2fb-4c7f-8bbc-11137808f7dc",
   "metadata": {},
   "outputs": [
    {
     "name": "stdout",
     "output_type": "stream",
     "text": [
      "[1, 0, 0, 0, 1, 0, 0, 0, 0, 0, 0, 1, 0, 0, 0, 2, 0, 0, 0, 0, 0, 0, 0, 0, 0, 0]\n"
     ]
    }
   ],
   "source": [
    "# Function call for frequecies of question 10:\n",
    "text2 = frequencies('apple')\n",
    "print(text2)"
   ]
  }
 ],
 "metadata": {
  "kernelspec": {
   "display_name": "Python 3 (ipykernel)",
   "language": "python",
   "name": "python3"
  },
  "language_info": {
   "codemirror_mode": {
    "name": "ipython",
    "version": 3
   },
   "file_extension": ".py",
   "mimetype": "text/x-python",
   "name": "python",
   "nbconvert_exporter": "python",
   "pygments_lexer": "ipython3",
   "version": "3.12.3"
  }
 },
 "nbformat": 4,
 "nbformat_minor": 5
}
